{
 "cells": [
  {
   "cell_type": "code",
   "execution_count": 1,
   "metadata": {},
   "outputs": [],
   "source": [
    "%load_ext autoreload\n",
    "%autoreload 2"
   ]
  },
  {
   "cell_type": "code",
   "execution_count": 2,
   "metadata": {},
   "outputs": [],
   "source": [
    "#! pip install git+https://github.com/beroguedou/SpecAugment.git\n",
    "#!pip install torchaudio"
   ]
  },
  {
   "cell_type": "code",
   "execution_count": 3,
   "metadata": {},
   "outputs": [],
   "source": [
    "import os\n",
    "import csv\n",
    "import time\n",
    "import librosa\n",
    "\n",
    "import warnings\n",
    "import pandas as pd\n",
    "from models import *\n",
    "from utils import *\n",
    "from decode import *\n",
    "import torch\n",
    "import torchaudio\n",
    "import numpy as np\n",
    "import torch.optim as optim\n",
    "from transformers import BertTokenizer\n",
    "\n",
    "warnings.filterwarnings('ignore')\n",
    "device = torch.device(\"cuda\" if torch.cuda.is_available() else \"cpu\")\n",
    "\n",
    "seed_value = 2020\n",
    "np.random.seed(seed_value)\n",
    "torch.manual_seed(seed_value)\n",
    "torch.cuda.manual_seed_all(seed_value)"
   ]
  },
  {
   "cell_type": "code",
   "execution_count": 4,
   "metadata": {},
   "outputs": [],
   "source": [
    "\n",
    "limit = 80\n",
    "params = {'batch_size': None,\n",
    "          'shuffle': True,\n",
    "          'num_workers': 10,\n",
    "          'drop_last': True}\n"
   ]
  },
  {
   "cell_type": "code",
   "execution_count": 5,
   "metadata": {},
   "outputs": [
    {
     "name": "stdout",
     "output_type": "stream",
     "text": [
      "CPU times: user 375 ms, sys: 107 ms, total: 482 ms\n",
      "Wall time: 1.46 s\n"
     ]
    }
   ],
   "source": [
    "%%time \n",
    "\n",
    "training_set = LibriSpeechDataset(limit=limit, n_frames=600, version='train-clean-360')\n",
    "dev_set = LibriSpeechDataset(limit=limit, n_frames=600, version='dev-clean')\n"
   ]
  },
  {
   "cell_type": "code",
   "execution_count": 6,
   "metadata": {},
   "outputs": [
    {
     "data": {
      "text/plain": [
       "(tensor([[[0., 0., 0.,  ..., 0., 0., 0.],\n",
       "          [0., 0., 0.,  ..., 0., 0., 0.],\n",
       "          [0., 0., 0.,  ..., 0., 0., 0.],\n",
       "          ...,\n",
       "          [0., 0., 0.,  ..., 0., 0., 0.],\n",
       "          [0., 0., 0.,  ..., 0., 0., 0.],\n",
       "          [0., 0., 0.,  ..., 0., 0., 0.]]]),\n",
       " tensor([  101,   101,  2045,  2001,  2625,  1997,  1037,  4306,  2055,  2085,\n",
       "          1998, 14163,  6894,  5289,  2106,  2025,  2031,  2000,  2562,  2067,\n",
       "          1037,  5481,  2004,  2002,  2441,  1996,  9445,  3460,  6031,  2988,\n",
       "          1996, 14460,  4214,  8721,  2000, 10767,  1998, 27468,  1996,  2221]))"
      ]
     },
     "execution_count": 6,
     "metadata": {},
     "output_type": "execute_result"
    }
   ],
   "source": [
    "# Let's see a single utterance\n",
    "\n",
    "LibriSpeechDataset(limit=limit, n_frames=600, version='train-clean-360')[0]"
   ]
  },
  {
   "cell_type": "code",
   "execution_count": 7,
   "metadata": {},
   "outputs": [],
   "source": [
    "encoder = EncoderCONV2DRNN(device=device, hidden_size=64).to(device)\n",
    "\n",
    "decoder = DecoderATTRNN(30000, dec_units=64, hidden_size=64).to(device)\n",
    "\n",
    "\n",
    "encoder_optimizer = optim.Adam(encoder.parameters())\n",
    "decoder_optimizer = optim.Adam(decoder.parameters())\n",
    "\n",
    "criterion = nn.NLLLoss()"
   ]
  },
  {
   "cell_type": "code",
   "execution_count": null,
   "metadata": {
    "scrolled": false
   },
   "outputs": [
    {
     "name": "stdout",
     "output_type": "stream",
     "text": [
      " ====== ====== ====== ====== ====== ======\n",
      "      The model has 4954139 parameters\n",
      " ====== ====== ====== ====== ====== ======\n",
      "\n",
      "\n",
      "Epoch        1: 100%|████████████████████| 5/5 [01:12<00:00, 14.58s/it, Train loss 5.3144 Eval loss 5.8326]\n",
      "Epoch        2: 100%|████████████████████| 5/5 [01:14<00:00, 14.84s/it, Train loss 5.3247 Eval loss 5.9415]\n",
      "Epoch        3: 100%|████████████████████| 5/5 [01:13<00:00, 14.74s/it, Train loss 5.2689 Eval loss 5.9547]\n",
      "Epoch        4: 100%|████████████████████| 5/5 [01:12<00:00, 14.50s/it, Train loss 5.1985 Eval loss 5.7526]\n",
      "Epoch        5: 100%|████████████████████| 5/5 [01:08<00:00,  8.85s/it, Train loss 5.2172 Eval loss 5.8079]"
     ]
    }
   ],
   "source": [
    "# Train the model\n",
    "\n",
    "global_trainer(5, training_set, dev_set, params, encoder, decoder, encoder_optimizer, decoder_optimizer,\n",
    "                                    criterion, device)"
   ]
  },
  {
   "cell_type": "code",
   "execution_count": null,
   "metadata": {},
   "outputs": [],
   "source": [
    "mfccs, references = training_set[1]\n",
    "tokenizer =  BertTokenizer.from_pretrained('bert-base-uncased')\n",
    "references = [tokenizer.convert_ids_to_tokens(ind) for ind in references.numpy().tolist()]\n",
    "evaluate(mfccs.unsqueeze(0), references, 40, encoder, decoder, targ_lang_tokenizer=tokenizer, \n",
    "          device=device, beam_search=True)"
   ]
  },
  {
   "cell_type": "code",
   "execution_count": null,
   "metadata": {},
   "outputs": [],
   "source": [
    "# Vérifications\n",
    "\n",
    "# 1 - Data Augmentation\n",
    "# 2 - Encoder\n",
    "# 3 - Attention Mechanism Bahdanau Audio\n",
    "# 4 - Smoothing and Topk to the attention\n",
    "# 5 - Decoder \n",
    "# 6 - Métrique BLEU"
   ]
  },
  {
   "cell_type": "code",
   "execution_count": 13,
   "metadata": {},
   "outputs": [
    {
     "data": {
      "text/plain": [
       "<bound method Module.named_parameters of EncoderCONV2DRNN(\n",
       "  (conv_base): ConvBase(\n",
       "    (avg_pool_1): AvgPool2d(kernel_size=3, stride=(2, 3), padding=0)\n",
       "    (batchnorm2d_1): BatchNorm2d(64, eps=1e-05, momentum=0.1, affine=True, track_running_stats=True)\n",
       "    (conv2d_1): Conv2d(1, 256, kernel_size=(3, 3), stride=(1, 1))\n",
       "    (conv2d_2): Conv2d(256, 64, kernel_size=(3, 3), stride=(1, 1))\n",
       "  )\n",
       "  (norm_layer_1): LayerNorm((198, 64), eps=1e-05, elementwise_affine=True)\n",
       "  (norm_layer_2): LayerNorm((198, 64), eps=1e-05, elementwise_affine=True)\n",
       "  (norm_layer_3): LayerNorm((198, 64), eps=1e-05, elementwise_affine=True)\n",
       "  (norm_layer_4): LayerNorm((198, 64), eps=1e-05, elementwise_affine=True)\n",
       "  (norm_layer_5): LayerNorm((198, 64), eps=1e-05, elementwise_affine=True)\n",
       "  (norm_layer_6): LayerNorm((198, 64), eps=1e-05, elementwise_affine=True)\n",
       "  (rnn_base_1): RnnBase(\n",
       "    (gru): GRU(1088, 64, batch_first=True, dropout=0.2, bidirectional=True)\n",
       "  )\n",
       "  (rnn_base_2): RnnBase(\n",
       "    (gru): GRU(64, 64, batch_first=True, dropout=0.2, bidirectional=True)\n",
       "  )\n",
       "  (rnn_base_3): RnnBase(\n",
       "    (gru): GRU(64, 64, batch_first=True, dropout=0.2, bidirectional=True)\n",
       "  )\n",
       "  (rnn_base_4): RnnBase(\n",
       "    (gru): GRU(64, 64, batch_first=True, dropout=0.2, bidirectional=True)\n",
       "  )\n",
       "  (rnn_base_5): RnnBase(\n",
       "    (gru): GRU(64, 64, batch_first=True, dropout=0.2, bidirectional=True)\n",
       "  )\n",
       "  (rnn_base_6): RnnBase(\n",
       "    (gru): GRU(64, 64, batch_first=True, dropout=0.2, bidirectional=True)\n",
       "  )\n",
       ")>"
      ]
     },
     "execution_count": 13,
     "metadata": {},
     "output_type": "execute_result"
    }
   ],
   "source": [
    "encoder.named_parameters"
   ]
  },
  {
   "cell_type": "code",
   "execution_count": null,
   "metadata": {},
   "outputs": [],
   "source": [
    "encoder.conv_base.conv2d_1.bias"
   ]
  },
  {
   "cell_type": "code",
   "execution_count": null,
   "metadata": {},
   "outputs": [],
   "source": [
    "encoder.norm_layer_3.weight"
   ]
  },
  {
   "cell_type": "code",
   "execution_count": null,
   "metadata": {},
   "outputs": [],
   "source": [
    "encoder.norm_layer_3.bias"
   ]
  },
  {
   "cell_type": "code",
   "execution_count": 9,
   "metadata": {},
   "outputs": [
    {
     "data": {
      "text/plain": [
       "Parameter containing:\n",
       "tensor([[-0.0674, -0.1302,  0.0384,  ..., -0.0591, -0.1039,  0.0268],\n",
       "        [-0.0764,  0.0268, -0.1037,  ...,  0.0132,  0.0557,  0.1091],\n",
       "        [ 0.0118,  0.0105, -0.0064,  ..., -0.0182, -0.0036, -0.0241],\n",
       "        ...,\n",
       "        [ 0.0903,  0.0023,  0.0194,  ..., -0.0641,  0.0586, -0.1119],\n",
       "        [-0.0462,  0.1185,  0.0371,  ...,  0.0341, -0.0499,  0.1254],\n",
       "        [-0.1108, -0.0882, -0.0694,  ...,  0.1346,  0.0861, -0.0641]],\n",
       "       requires_grad=True)"
      ]
     },
     "execution_count": 9,
     "metadata": {},
     "output_type": "execute_result"
    }
   ],
   "source": [
    "encoder.rnn_base_1.gru.weight_hh_l0"
   ]
  },
  {
   "cell_type": "code",
   "execution_count": 12,
   "metadata": {},
   "outputs": [
    {
     "data": {
      "text/plain": [
       "Parameter containing:\n",
       "tensor([ 0.0711,  0.0114,  0.0669, -0.0574, -0.0121, -0.0404, -0.0870,  0.0906,\n",
       "         0.0896, -0.0941, -0.0627,  0.0708,  0.0439,  0.0731,  0.0125,  0.1143,\n",
       "         0.0114, -0.0362, -0.0148, -0.1334,  0.0269,  0.0966, -0.0006,  0.0693,\n",
       "        -0.0164, -0.0917,  0.0635, -0.0467,  0.0485, -0.0766,  0.0766,  0.0086,\n",
       "        -0.0265,  0.0303,  0.0703, -0.0791, -0.0572, -0.0941,  0.0705,  0.0156,\n",
       "        -0.0063, -0.1090,  0.0431,  0.0985, -0.0457,  0.0080,  0.0751,  0.0311,\n",
       "        -0.0500,  0.0871, -0.1000, -0.0376,  0.0398, -0.1056, -0.0243,  0.0167,\n",
       "         0.1059, -0.0190, -0.0105, -0.1084, -0.1201,  0.0273,  0.1197, -0.1171,\n",
       "         0.0333,  0.0950,  0.0810, -0.1045, -0.0057,  0.1010, -0.1195, -0.0595,\n",
       "        -0.0480, -0.0428,  0.0579, -0.0701,  0.0709,  0.0011,  0.1195, -0.0903,\n",
       "         0.1042, -0.0676, -0.0142,  0.0617,  0.0562, -0.1038,  0.0304,  0.0476,\n",
       "         0.0258,  0.0646,  0.1247,  0.0680, -0.0428,  0.0224, -0.0486, -0.0267,\n",
       "        -0.1085, -0.1279,  0.0876, -0.0951,  0.0322,  0.0657,  0.0666, -0.1279,\n",
       "         0.0748, -0.1036, -0.0041, -0.0031,  0.0535, -0.0688, -0.0499, -0.0460,\n",
       "         0.0508,  0.1019, -0.1189,  0.0856, -0.0286, -0.0227, -0.0610,  0.0991,\n",
       "        -0.0661,  0.0042, -0.0427, -0.0649,  0.0546, -0.0121,  0.0185, -0.0214,\n",
       "         0.1092,  0.1172, -0.0035, -0.0248, -0.0088,  0.0604,  0.0149, -0.1216,\n",
       "        -0.0193, -0.0084,  0.0183,  0.0847,  0.0661,  0.0789, -0.0346,  0.0210,\n",
       "         0.0572, -0.1056,  0.0275, -0.0747,  0.1116, -0.1015,  0.0660,  0.0940,\n",
       "         0.0380, -0.0068,  0.0382, -0.1112,  0.1254, -0.0652, -0.0741,  0.0382,\n",
       "        -0.0113,  0.1225, -0.0648,  0.0751,  0.0750, -0.0068, -0.0775,  0.1121,\n",
       "         0.0107, -0.0668,  0.0983,  0.0713,  0.1100,  0.0719,  0.0466,  0.0301,\n",
       "        -0.0223,  0.0299, -0.0598, -0.1417, -0.1116, -0.0773, -0.0113,  0.0643,\n",
       "        -0.0362,  0.0112,  0.0314,  0.0036,  0.0854, -0.0525, -0.1041, -0.1016],\n",
       "       requires_grad=True)"
      ]
     },
     "execution_count": 12,
     "metadata": {},
     "output_type": "execute_result"
    }
   ],
   "source": [
    "encoder.rnn_base_1.gru.bias_hh_l0"
   ]
  },
  {
   "cell_type": "code",
   "execution_count": null,
   "metadata": {},
   "outputs": [],
   "source": [
    "encoder.rnn_base_.gru.weight_ih_l0_reverse"
   ]
  },
  {
   "cell_type": "code",
   "execution_count": null,
   "metadata": {},
   "outputs": [],
   "source": []
  }
 ],
 "metadata": {
  "kernelspec": {
   "display_name": "Python 3",
   "language": "python",
   "name": "python3"
  },
  "language_info": {
   "codemirror_mode": {
    "name": "ipython",
    "version": 3
   },
   "file_extension": ".py",
   "mimetype": "text/x-python",
   "name": "python",
   "nbconvert_exporter": "python",
   "pygments_lexer": "ipython3",
   "version": "3.6.9"
  }
 },
 "nbformat": 4,
 "nbformat_minor": 4
}
