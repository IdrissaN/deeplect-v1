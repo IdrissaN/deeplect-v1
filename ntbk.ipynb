{
 "cells": [
  {
   "cell_type": "code",
   "execution_count": 1,
   "metadata": {},
   "outputs": [],
   "source": [
    "%load_ext autoreload\n",
    "%autoreload 2"
   ]
  },
  {
   "cell_type": "code",
   "execution_count": 2,
   "metadata": {},
   "outputs": [],
   "source": [
    "#! pip install git+https://github.com/beroguedou/SpecAugment.git\n",
    "#!pip install torchaudio"
   ]
  },
  {
   "cell_type": "code",
   "execution_count": 3,
   "metadata": {},
   "outputs": [],
   "source": [
    "import os\n",
    "import csv\n",
    "import time\n",
    "import librosa\n",
    "\n",
    "import warnings\n",
    "import pandas as pd\n",
    "from models import *\n",
    "from utils import *\n",
    "from decode import *\n",
    "import torch\n",
    "import torchaudio\n",
    "import numpy as np\n",
    "import torch.optim as optim\n",
    "\n",
    "warnings.filterwarnings('ignore')\n",
    "device = torch.device(\"cuda\" if torch.cuda.is_available() else \"cpu\")"
   ]
  },
  {
   "cell_type": "code",
   "execution_count": 4,
   "metadata": {},
   "outputs": [
    {
     "name": "stdout",
     "output_type": "stream",
     "text": [
      "CPU times: user 326 ms, sys: 52.6 ms, total: 379 ms\n",
      "Wall time: 1.07 s\n"
     ]
    }
   ],
   "source": [
    "%%time \n",
    "\n",
    "limit = 80\n",
    "params = {'batch_size': 20,\n",
    "          'shuffle': True,\n",
    "          'num_workers': 10,\n",
    "          'drop_last': True}\n",
    "\n",
    "\n",
    "#tokenizer = tokenizer_librispeech(limit=800)\n",
    "training_set = LibriSpeechDataset(limit=limit, n_frames=600, version='train-clean-360')\n",
    "dev_set = LibriSpeechDataset(limit=limit, n_frames=600, version='dev-clean')\n",
    "\n",
    "train_dataloader = data.DataLoader(training_set, **params)\n",
    "dev_dataloader = data.DataLoader(dev_set, **params)\n",
    "\n",
    "steps_per_epoch = len(training_set) // params['batch_size']\n",
    "\n",
    "#vocab_tar_size = len(tokenizer.word_index)\n",
    "embedding_dim_target = 100"
   ]
  },
  {
   "cell_type": "code",
   "execution_count": 5,
   "metadata": {},
   "outputs": [
    {
     "data": {
      "text/plain": [
       "(tensor([[[-1.4125, -1.2459, -1.0972,  ...,  0.0000,  0.0000,  0.0000],\n",
       "          [-0.6660, -0.7965, -0.8682,  ...,  0.0000,  0.0000,  0.0000],\n",
       "          [ 0.0153, -0.2704, -0.4284,  ...,  0.0000,  0.0000,  0.0000],\n",
       "          ...,\n",
       "          [ 0.1286, -0.2636, -0.4296,  ...,  0.0000,  0.0000,  0.0000],\n",
       "          [-0.0151,  0.3055, -0.0952,  ...,  0.0000,  0.0000,  0.0000],\n",
       "          [-0.7348, -0.3408, -0.2402,  ...,  0.0000,  0.0000,  0.0000]]]),\n",
       " tensor([  101,  2045,  2001,  2625,  1997,  1037,  4306,  2055,  2085,  1998,\n",
       "         14163,  6894,  5289,  2106,  2025,  2031,  2000,  2562,  2067,  1037,\n",
       "          5481,  2004,  2002,  2441,  1996,  9445,  3460,  6031,  2988,  1996,\n",
       "         14460,  4214,  8721,  2000, 10767,  1998, 27468,  1996,  2221,  7522]))"
      ]
     },
     "execution_count": 5,
     "metadata": {},
     "output_type": "execute_result"
    }
   ],
   "source": [
    "#tknz = modern_tokenizers()\n",
    "\n",
    "LibriSpeechDataset(limit=limit, n_frames=600, version='train-clean-360')[0]"
   ]
  },
  {
   "cell_type": "code",
   "execution_count": 6,
   "metadata": {},
   "outputs": [],
   "source": [
    "# 'bahdanau_basic'\n",
    "# 'bahdanau_audio'\n",
    "# 'luong_dot'\n",
    "# 'luong_concat'\n",
    "# 'luong_general'\n",
    "# 'super_attn'"
   ]
  },
  {
   "cell_type": "code",
   "execution_count": 7,
   "metadata": {},
   "outputs": [],
   "source": [
    "encoder = EncoderCONV2DRNN(batch_size=params['batch_size'], device=device, hidden_size=64).to(device)\n",
    "\n",
    "decoder = DecoderATTRNN(30000, dec_units=64, batch_sz=params['batch_size'], \n",
    "                         hidden_size=64).to(device)\n",
    "\n",
    "\n",
    "encoder_optimizer = optim.Adam(encoder.parameters())\n",
    "decoder_optimizer = optim.Adam(decoder.parameters())\n",
    "\n",
    "criterion = nn.NLLLoss()"
   ]
  },
  {
   "cell_type": "code",
   "execution_count": null,
   "metadata": {
    "scrolled": false
   },
   "outputs": [
    {
     "name": "stdout",
     "output_type": "stream",
     "text": [
      " ====== ====== ====== ====== ====== ======\n",
      "      The model has 113250107 parameters\n",
      " ====== ====== ====== ====== ====== ======\n",
      "\n",
      "\n",
      "Epoch        1: 100%|████████████████████| 4/4 [01:03<00:00, 15.95s/it, Train loss 4.9988 Eval loss 5.6455]\n",
      "Epoch        2: 100%|████████████████████| 4/4 [01:01<00:00, 15.47s/it, Train loss 4.9832 Eval loss 5.6418]\n",
      "Epoch        3: 100%|████████████████████| 4/4 [01:01<00:00, 15.32s/it, Train loss 4.9656 Eval loss 5.6583]\n",
      "Epoch        4: 100%|████████████████████| 4/4 [01:02<00:00, 15.65s/it, Train loss 4.9650 Eval loss 5.6977]\n",
      "Epoch        5: 100%|████████████████████| 4/4 [01:01<00:00, 15.43s/it, Train loss 4.9464 Eval loss 5.6235]\n",
      "Epoch        6: 100%|████████████████████| 4/4 [01:03<00:00, 15.76s/it, Train loss 4.9344 Eval loss 5.6335]\n",
      "Epoch        7: 100%|████████████████████| 4/4 [01:04<00:00, 16.19s/it, Train loss 4.9237 Eval loss 5.7468]\n",
      "Epoch        8: 100%|████████████████████| 4/4 [00:36<00:00,  9.19s/it, Train loss 4.9035]"
     ]
    }
   ],
   "source": [
    "# Train the model\n",
    "global_trainer(10, train_dataloader, dev_dataloader, encoder, decoder, encoder_optimizer, decoder_optimizer,\n",
    "                                    criterion, device, params['batch_size'],  bad_audio_mode=True)"
   ]
  },
  {
   "cell_type": "code",
   "execution_count": null,
   "metadata": {},
   "outputs": [],
   "source": [
    "mfccs, references = training_set[1]\n",
    "references = [tokenizer.index_word[ind] for ind in references.numpy()]\n",
    "evaluate(mfccs.unsqueeze(0), references, 40, encoder, decoder, targ_lang=tokenizer, \n",
    "          device=device, beam_search=True)"
   ]
  },
  {
   "cell_type": "code",
   "execution_count": null,
   "metadata": {},
   "outputs": [],
   "source": [
    "# Vérifications\n",
    "\n",
    "# 1 - Data Augmentation\n",
    "# 2 - Encoder\n",
    "# 3 - Attention Mechanism Bahdanau Audio\n",
    "# 4 - Smoothing and Topk to the attention\n",
    "# 5 - Decoder \n",
    "# 6 - Métrique BLEU"
   ]
  },
  {
   "cell_type": "code",
   "execution_count": null,
   "metadata": {},
   "outputs": [],
   "source": [
    "from transformers import BertTokenizer, BertModel\n",
    "from tokenizers import BertWordPieceTokenizer\n",
    "\n",
    "# Let's see how to increase the vocabulary of Bert model and tokenizer\n",
    "trained_bert_tokenizer = BertTokenizer.from_pretrained('bert-base-uncased')\n",
    "# Let's train a wordpiece model tokenizer on our data \n",
    "our_bert_tokenizer = modern_tokenizers()\n",
    "# Now we will collect the tokens that are'nt in pretrained bert token\n",
    "length = our_bert_tokenizer.get_vocab_size()\n",
    "list_new_tokens = [our_bert_tokenizer.id_to_token(id_) for id_ in range(length)\\\n",
    "              if our_bert_tokenizer.token_to_id(our_bert_tokenizer.id_to_token(0)) != None] \n",
    "# Adding the new tokens to the bert's one\n",
    "num_added_toks = trained_bert_tokenizer.add_tokens(list_new_tokens)\n",
    "print('We have added', num_added_toks, 'tokens')\n",
    "# Load a bert pretrained model\n",
    "bert_model = BertModel.from_pretrained('bert-base-uncased')\n",
    "# Put the model in \"evaluation\" mode, meaning feed-forward operation.\n",
    "bert_model.eval()\n",
    "# Notice: resize_token_embeddings \n",
    "bert_model.resize_token_embeddings(len(trained_bert_tokenizer))\n",
    "# Return tokenizer word_embeddings\n",
    "trained_bert_tokenizer, bert_model.embeddings.word_embeddings\n",
    "\n"
   ]
  },
  {
   "cell_type": "code",
   "execution_count": null,
   "metadata": {},
   "outputs": [],
   "source": [
    "tokenizer.encode('toto va chez tata')"
   ]
  },
  {
   "cell_type": "code",
   "execution_count": null,
   "metadata": {},
   "outputs": [],
   "source": [
    "\n",
    "\n",
    "# Idea use Bert tokenizer to tokenize target data \n",
    "#  Use bert Embedding for the Embedding of the decoder \n",
    "# Verifier les poids qui s'entrainent"
   ]
  },
  {
   "cell_type": "code",
   "execution_count": null,
   "metadata": {},
   "outputs": [],
   "source": []
  }
 ],
 "metadata": {
  "kernelspec": {
   "display_name": "Python 3",
   "language": "python",
   "name": "python3"
  },
  "language_info": {
   "codemirror_mode": {
    "name": "ipython",
    "version": 3
   },
   "file_extension": ".py",
   "mimetype": "text/x-python",
   "name": "python",
   "nbconvert_exporter": "python",
   "pygments_lexer": "ipython3",
   "version": "3.6.9"
  }
 },
 "nbformat": 4,
 "nbformat_minor": 4
}
