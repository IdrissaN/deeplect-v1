{
 "cells": [
  {
   "cell_type": "code",
   "execution_count": 1,
   "metadata": {},
   "outputs": [],
   "source": [
    "%load_ext autoreload\n",
    "%autoreload 2"
   ]
  },
  {
   "cell_type": "code",
   "execution_count": 2,
   "metadata": {},
   "outputs": [],
   "source": [
    "#! pip install git+https://github.com/beroguedou/SpecAugment.git\n",
    "#!pip install torchaudio"
   ]
  },
  {
   "cell_type": "code",
   "execution_count": 3,
   "metadata": {},
   "outputs": [],
   "source": [
    "import os\n",
    "import csv\n",
    "import time\n",
    "import librosa\n",
    "\n",
    "import warnings\n",
    "import pandas as pd\n",
    "from models import *\n",
    "from utils import *\n",
    "from decode import *\n",
    "import torch\n",
    "import torchaudio\n",
    "import numpy as np\n",
    "import torch.optim as optim\n",
    "\n",
    "warnings.filterwarnings('ignore')\n",
    "device = torch.device(\"cuda\" if torch.cuda.is_available() else \"cpu\")"
   ]
  },
  {
   "cell_type": "code",
   "execution_count": 4,
   "metadata": {},
   "outputs": [
    {
     "name": "stdout",
     "output_type": "stream",
     "text": [
      "CPU times: user 325 ms, sys: 77.3 ms, total: 403 ms\n",
      "Wall time: 1.08 s\n"
     ]
    }
   ],
   "source": [
    "%%time \n",
    "\n",
    "limit = 80\n",
    "params = {'batch_size': 20,\n",
    "          'shuffle': True,\n",
    "          'num_workers': 10,\n",
    "          'drop_last': True}\n",
    "\n",
    "\n",
    "#tokenizer = tokenizer_librispeech(limit=800)\n",
    "training_set = LibriSpeechDataset(limit=limit, n_frames=600, version='train-clean-360')\n",
    "dev_set = LibriSpeechDataset(limit=limit, n_frames=600, version='dev-clean')\n",
    "\n",
    "train_dataloader = data.DataLoader(training_set, **params)\n",
    "dev_dataloader = data.DataLoader(dev_set, **params)\n",
    "\n",
    "steps_per_epoch = len(training_set) // params['batch_size']\n",
    "\n",
    "#vocab_tar_size = len(tokenizer.word_index)\n",
    "embedding_dim_target = 100"
   ]
  },
  {
   "cell_type": "code",
   "execution_count": 5,
   "metadata": {},
   "outputs": [
    {
     "data": {
      "text/plain": [
       "(tensor([[[-1.4131, -1.2465, -1.0977,  ...,  0.0000,  0.0000,  0.0000],\n",
       "          [-0.6647, -0.7953, -0.8671,  ...,  0.0000,  0.0000,  0.0000],\n",
       "          [ 0.0141, -0.2716, -0.4297,  ...,  0.0000,  0.0000,  0.0000],\n",
       "          ...,\n",
       "          [ 0.1281, -0.2637, -0.4295,  ...,  0.0000,  0.0000,  0.0000],\n",
       "          [-0.0137,  0.3066, -0.0938,  ...,  0.0000,  0.0000,  0.0000],\n",
       "          [-0.7350, -0.3410, -0.2404,  ...,  0.0000,  0.0000,  0.0000]]]),\n",
       " tensor([  101,   101,  2045,  2001,  2625,  1997,  1037,  4306,  2055,  2085,\n",
       "          1998, 14163,  6894,  5289,  2106,  2025,  2031,  2000,  2562,  2067,\n",
       "          1037,  5481,  2004,  2002,  2441,  1996,  9445,  3460,  6031,  2988,\n",
       "          1996, 14460,  4214,  8721,  2000, 10767,  1998, 27468,  1996,  2221]))"
      ]
     },
     "execution_count": 5,
     "metadata": {},
     "output_type": "execute_result"
    }
   ],
   "source": [
    "#tknz = modern_tokenizers()\n",
    "\n",
    "LibriSpeechDataset(limit=limit, n_frames=600, version='train-clean-360')[0]"
   ]
  },
  {
   "cell_type": "code",
   "execution_count": null,
   "metadata": {},
   "outputs": [],
   "source": [
    "# 'bahdanau_basic'\n",
    "# 'bahdanau_audio'\n",
    "# 'luong_dot'\n",
    "# 'luong_concat'\n",
    "# 'luong_general'\n",
    "# 'super_attn'"
   ]
  },
  {
   "cell_type": "code",
   "execution_count": 6,
   "metadata": {},
   "outputs": [],
   "source": [
    "encoder = EncoderCONV2DRNN(batch_size=params['batch_size'], device=device, hidden_size=64).to(device)\n",
    "\n",
    "decoder = DecoderATTRNN(30000, dec_units=64, batch_sz=params['batch_size'], \n",
    "                         hidden_size=64).to(device)\n",
    "\n",
    "\n",
    "encoder_optimizer = optim.Adam(encoder.parameters())\n",
    "decoder_optimizer = optim.Adam(decoder.parameters())\n",
    "\n",
    "criterion = nn.NLLLoss()"
   ]
  },
  {
   "cell_type": "code",
   "execution_count": 8,
   "metadata": {
    "scrolled": false
   },
   "outputs": [
    {
     "name": "stdout",
     "output_type": "stream",
     "text": [
      " ====== ====== ====== ====== ====== ======\n",
      "      The model has 4483691 parameters\n",
      " ====== ====== ====== ====== ====== ======\n",
      "\n",
      "\n",
      "Epoch        1: 100%|████████████████████| 4/4 [01:04<00:00, 16.17s/it, Train loss 9.2461 Eval loss 9.0745]\n",
      "Epoch        2: 100%|████████████████████| 4/4 [01:06<00:00, 16.60s/it, Train loss 8.8116 Eval loss 8.6370]\n",
      "Epoch        3: 100%|████████████████████| 4/4 [01:05<00:00, 16.50s/it, Train loss 8.3760 Eval loss 8.2257]\n",
      "Epoch        4: 100%|████████████████████| 4/4 [01:05<00:00, 16.42s/it, Train loss 7.9565 Eval loss 7.7378]\n",
      "Epoch        5: 100%|████████████████████| 4/4 [01:05<00:00, 16.45s/it, Train loss 7.5373 Eval loss 7.3590]\n",
      "Epoch        6: 100%|████████████████████| 4/4 [01:04<00:00, 16.22s/it, Train loss 7.1292 Eval loss 7.0314]\n",
      "Epoch        7: 100%|████████████████████| 4/4 [01:05<00:00, 16.27s/it, Train loss 6.7492 Eval loss 6.7653]\n",
      "Epoch        8: 100%|████████████████████| 4/4 [01:05<00:00, 16.39s/it, Train loss 6.4032 Eval loss 6.5196]\n",
      "Epoch        9: 100%|████████████████████| 4/4 [01:05<00:00, 16.41s/it, Train loss 6.1048 Eval loss 6.2979]\n",
      "Epoch       10: 100%|████████████████████| 4/4 [01:04<00:00, 16.17s/it, Train loss 5.8535 Eval loss 6.1365]\n",
      "\n",
      "Time taken for the training 0.18373 hours\n",
      "\n"
     ]
    }
   ],
   "source": [
    "# Train the model\n",
    "global_trainer(10, train_dataloader, dev_dataloader, encoder, decoder, encoder_optimizer, decoder_optimizer,\n",
    "                                    criterion, device, params['batch_size'],  bad_audio_mode=True)"
   ]
  },
  {
   "cell_type": "code",
   "execution_count": null,
   "metadata": {},
   "outputs": [],
   "source": [
    "mfccs, references = training_set[1]\n",
    "references = [tokenizer.index_word[ind] for ind in references.numpy()]\n",
    "evaluate(mfccs.unsqueeze(0), references, 40, encoder, decoder, targ_lang=tokenizer, \n",
    "          device=device, beam_search=True)"
   ]
  },
  {
   "cell_type": "code",
   "execution_count": null,
   "metadata": {},
   "outputs": [],
   "source": [
    "# Vérifications\n",
    "\n",
    "# 1 - Data Augmentation\n",
    "# 2 - Encoder\n",
    "# 3 - Attention Mechanism Bahdanau Audio\n",
    "# 4 - Smoothing and Topk to the attention\n",
    "# 5 - Decoder \n",
    "# 6 - Métrique BLEU"
   ]
  },
  {
   "cell_type": "code",
   "execution_count": null,
   "metadata": {},
   "outputs": [],
   "source": [
    "\n",
    "# Faire un échéancier conforme à un des papiers\n",
    "# Vérifier pourquoi les sorties de spec_augment donne des nan\n",
    "# Revoir l'Evaluation \n",
    "\n"
   ]
  },
  {
   "cell_type": "code",
   "execution_count": null,
   "metadata": {},
   "outputs": [],
   "source": []
  }
 ],
 "metadata": {
  "kernelspec": {
   "display_name": "Python 3",
   "language": "python",
   "name": "python3"
  },
  "language_info": {
   "codemirror_mode": {
    "name": "ipython",
    "version": 3
   },
   "file_extension": ".py",
   "mimetype": "text/x-python",
   "name": "python",
   "nbconvert_exporter": "python",
   "pygments_lexer": "ipython3",
   "version": "3.6.9"
  }
 },
 "nbformat": 4,
 "nbformat_minor": 4
}
