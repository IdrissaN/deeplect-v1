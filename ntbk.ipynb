{
 "cells": [
  {
   "cell_type": "code",
   "execution_count": 1,
   "metadata": {},
   "outputs": [],
   "source": [
    "%load_ext autoreload\n",
    "%autoreload 2"
   ]
  },
  {
   "cell_type": "code",
   "execution_count": 2,
   "metadata": {},
   "outputs": [],
   "source": [
    "#! pip install git+https://github.com/beroguedou/SpecAugment.git\n",
    "#!pip install torchaudio"
   ]
  },
  {
   "cell_type": "code",
   "execution_count": 3,
   "metadata": {},
   "outputs": [],
   "source": [
    "import os\n",
    "import csv\n",
    "import time\n",
    "import librosa\n",
    "\n",
    "import warnings\n",
    "import pandas as pd\n",
    "from models import *\n",
    "from utils import *\n",
    "from decode import *\n",
    "import torch\n",
    "import torchaudio\n",
    "import numpy as np\n",
    "import torch.optim as optim\n",
    "from transformers import BertTokenizer\n",
    "\n",
    "warnings.filterwarnings('ignore')\n",
    "device = torch.device(\"cuda\" if torch.cuda.is_available() else \"cpu\")"
   ]
  },
  {
   "cell_type": "code",
   "execution_count": 4,
   "metadata": {},
   "outputs": [
    {
     "name": "stdout",
     "output_type": "stream",
     "text": [
      "CPU times: user 353 ms, sys: 45.4 ms, total: 399 ms\n",
      "Wall time: 1.14 s\n"
     ]
    }
   ],
   "source": [
    "%%time \n",
    "\n",
    "limit = 80\n",
    "params = {'batch_size': 20,\n",
    "          'shuffle': True,\n",
    "          'num_workers': 10,\n",
    "          'drop_last': True}\n",
    "\n",
    "\n",
    "#tokenizer = tokenizer_librispeech(limit=800)\n",
    "training_set = LibriSpeechDataset(limit=limit, n_frames=600, version='train-clean-360')\n",
    "dev_set = LibriSpeechDataset(limit=limit, n_frames=600, version='dev-clean')\n",
    "\n",
    "train_dataloader = data.DataLoader(training_set, **params)\n",
    "dev_dataloader = data.DataLoader(dev_set, **params)\n",
    "\n",
    "steps_per_epoch = len(training_set) // params['batch_size']\n",
    "\n",
    "#vocab_tar_size = len(tokenizer.word_index)\n",
    "embedding_dim_target = 100"
   ]
  },
  {
   "cell_type": "code",
   "execution_count": 5,
   "metadata": {},
   "outputs": [
    {
     "data": {
      "text/plain": [
       "(tensor([[[2.9673e-05, 3.7982e-05, 5.5997e-05,  ..., 0.0000e+00,\n",
       "           0.0000e+00, 0.0000e+00],\n",
       "          [3.7324e-05, 9.5523e-01, 4.6501e+00,  ..., 0.0000e+00,\n",
       "           0.0000e+00, 0.0000e+00],\n",
       "          [3.3766e+00, 2.9255e+00, 1.0153e+01,  ..., 0.0000e+00,\n",
       "           0.0000e+00, 0.0000e+00],\n",
       "          ...,\n",
       "          [0.0000e+00, 0.0000e+00, 0.0000e+00,  ..., 0.0000e+00,\n",
       "           0.0000e+00, 0.0000e+00],\n",
       "          [0.0000e+00, 0.0000e+00, 0.0000e+00,  ..., 0.0000e+00,\n",
       "           0.0000e+00, 0.0000e+00],\n",
       "          [0.0000e+00, 0.0000e+00, 0.0000e+00,  ..., 0.0000e+00,\n",
       "           0.0000e+00, 0.0000e+00]]]),\n",
       " tensor([  101,   101,  2045,  2001,  2625,  1997,  1037,  4306,  2055,  2085,\n",
       "          1998, 14163,  6894,  5289,  2106,  2025,  2031,  2000,  2562,  2067,\n",
       "          1037,  5481,  2004,  2002,  2441,  1996,  9445,  3460,  6031,  2988,\n",
       "          1996, 14460,  4214,  8721,  2000, 10767,  1998, 27468,  1996,  2221]))"
      ]
     },
     "execution_count": 5,
     "metadata": {},
     "output_type": "execute_result"
    }
   ],
   "source": [
    "# Let's see an utterance\n",
    "\n",
    "LibriSpeechDataset(limit=limit, n_frames=600, version='train-clean-360')[0]"
   ]
  },
  {
   "cell_type": "code",
   "execution_count": 6,
   "metadata": {},
   "outputs": [],
   "source": [
    "encoder = EncoderCONV2DRNN(batch_size=params['batch_size'], device=device, hidden_size=64).to(device)\n",
    "\n",
    "decoder = DecoderATTRNN(30000, dec_units=64, batch_sz=params['batch_size'], \n",
    "                         hidden_size=64).to(device)\n",
    "\n",
    "\n",
    "encoder_optimizer = optim.Adam(encoder.parameters())\n",
    "decoder_optimizer = optim.Adam(decoder.parameters())\n",
    "\n",
    "criterion = nn.NLLLoss()"
   ]
  },
  {
   "cell_type": "code",
   "execution_count": 8,
   "metadata": {
    "scrolled": false
   },
   "outputs": [
    {
     "name": "stdout",
     "output_type": "stream",
     "text": [
      " ====== ====== ====== ====== ====== ======\n",
      "      The model has 4954139 parameters\n",
      " ====== ====== ====== ====== ====== ======\n",
      "\n",
      "\n",
      "Epoch        1: 100%|████████████████████| 4/4 [01:07<00:00, 16.89s/it, Train loss 9.4923 Eval loss 8.8696]\n",
      "\n",
      "Time taken for the training 0.018938 hours\n",
      "\n"
     ]
    }
   ],
   "source": [
    "# Train the model\n",
    "global_trainer(1, train_dataloader, dev_dataloader, encoder, decoder, encoder_optimizer, decoder_optimizer,\n",
    "                                    criterion, device, params['batch_size'],  bad_audio_mode=True)"
   ]
  },
  {
   "cell_type": "code",
   "execution_count": 11,
   "metadata": {},
   "outputs": [
    {
     "name": "stdout",
     "output_type": "stream",
     "text": [
      "Input: ['[CLS]', '[CLS]', 'what', 'did', 'you', 'do', 'next', 'i', 'awakened', 'with', 'a', 'sudden', 'start', 'just', 'before', 'six', 'o', \"'\", 'clock', 'i', 'had', 'not', 'set', 'an', 'alarm', 'though', 'i', 'wanted', 'to', 'get', 'up', 'early', 'to', 'do', 'a', 'little', 'repair', 'job', 'i', 'had']\n",
      "\n",
      "\n",
      "Predicted translation: ['[CLS]']\n",
      "\n",
      "\n",
      "Bleu score: 1.722611814452713e-171\n"
     ]
    }
   ],
   "source": [
    "mfccs, references = training_set[1]\n",
    "tokenizer =  BertTokenizer.from_pretrained('bert-base-uncased')\n",
    "references = [tokenizer.convert_ids_to_tokens(ind) for ind in references.numpy().tolist()]\n",
    "evaluate(mfccs.unsqueeze(0), references, 40, encoder, decoder, targ_lang_tokenizer=tokenizer, \n",
    "          device=device, beam_search=True)"
   ]
  },
  {
   "cell_type": "code",
   "execution_count": null,
   "metadata": {},
   "outputs": [],
   "source": [
    "# Vérifications\n",
    "\n",
    "# 1 - Data Augmentation\n",
    "# 2 - Encoder\n",
    "# 3 - Attention Mechanism Bahdanau Audio\n",
    "# 4 - Smoothing and Topk to the attention\n",
    "# 5 - Decoder \n",
    "# 6 - Métrique BLEU"
   ]
  },
  {
   "cell_type": "code",
   "execution_count": null,
   "metadata": {},
   "outputs": [],
   "source": [
    "# Faire un échéancier conforme à un des papiers\n"
   ]
  },
  {
   "cell_type": "code",
   "execution_count": null,
   "metadata": {},
   "outputs": [],
   "source": []
  }
 ],
 "metadata": {
  "kernelspec": {
   "display_name": "Python 3",
   "language": "python",
   "name": "python3"
  },
  "language_info": {
   "codemirror_mode": {
    "name": "ipython",
    "version": 3
   },
   "file_extension": ".py",
   "mimetype": "text/x-python",
   "name": "python",
   "nbconvert_exporter": "python",
   "pygments_lexer": "ipython3",
   "version": "3.6.9"
  }
 },
 "nbformat": 4,
 "nbformat_minor": 4
}
